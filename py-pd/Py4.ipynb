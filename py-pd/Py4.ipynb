{
 "cells": [
  {
   "attachments": {},
   "cell_type": "markdown",
   "metadata": {},
   "source": [
    "Python Closures"
   ]
  },
  {
   "attachments": {},
   "cell_type": "markdown",
   "metadata": {},
   "source": [
    "Python closure is a nested function that allows us to access variables of the outer function even after the outer function is closed.\n",
    "\n",
    "closure is a nested function that helps us access the outer function's variables even after the outer function is closed.\n",
    "\n",
    "Closures can be used to avoid global values and provide data hiding, and can be an elegant solution for simple cases with one or few methods."
   ]
  },
  {
   "cell_type": "code",
   "execution_count": null,
   "metadata": {},
   "outputs": [],
   "source": [
    "def greet(name):\n",
    "    # inner function\n",
    "    def display_name():\n",
    "        print(\"Hi\", name)\n",
    "    \n",
    "    # call inner function\n",
    "    display_name()\n",
    "\n",
    "# call outer function\n",
    "greet(\"John\")"
   ]
  },
  {
   "cell_type": "code",
   "execution_count": null,
   "metadata": {},
   "outputs": [],
   "source": [
    "def greet():\n",
    "    # variable defined outside the inner function\n",
    "    name = \"John\"\n",
    "    \n",
    "    # return a nested anonymous function\n",
    "    return lambda: \"Hi \" + name\n",
    "\n",
    "\n",
    "# call the outer function\n",
    "message = greet()\n",
    "\n",
    "# call the inner function\n",
    "print(message())"
   ]
  },
  {
   "cell_type": "code",
   "execution_count": null,
   "metadata": {},
   "outputs": [],
   "source": [
    "def calculate():\n",
    "    num = 1\n",
    "    def inner_func():\n",
    "        nonlocal num\n",
    "        num += 2\n",
    "        return num\n",
    "    return inner_func\n",
    "\n",
    "# call the outer function\n",
    "odd = calculate()\n",
    "\n",
    "# call the inner function\n",
    "print(odd())\n",
    "print(odd())\n",
    "print(odd())\n",
    "\n",
    "# call the outer function again\n",
    "odd2 = calculate()\n",
    "print(odd2())"
   ]
  },
  {
   "cell_type": "code",
   "execution_count": 1,
   "metadata": {},
   "outputs": [
    {
     "name": "stdout",
     "output_type": "stream",
     "text": [
      "27\n",
      "15\n",
      "30\n"
     ]
    }
   ],
   "source": [
    "def make_multiplier_of(n):\n",
    "    def multiplier(x):\n",
    "        return x * n\n",
    "    return multiplier\n",
    "\n"
   ]
  },
  {
   "cell_type": "code",
   "execution_count": 2,
   "metadata": {},
   "outputs": [
    {
     "name": "stdout",
     "output_type": "stream",
     "text": [
      "27\n",
      "15\n"
     ]
    }
   ],
   "source": [
    "times3 = make_multiplier_of(3)\n",
    "print(times3(9))\n",
    "print(times3(5))"
   ]
  },
  {
   "cell_type": "code",
   "execution_count": null,
   "metadata": {},
   "outputs": [],
   "source": [
    "\n",
    "# Multiplier of 3\n",
    "times3 = make_multiplier_of(3)\n",
    "\n",
    "# Multiplier of 5\n",
    "times5 = make_multiplier_of(5)\n",
    "\n",
    "# Output: 27\n",
    "print(times3(9))\n",
    "\n",
    "# Output: 15\n",
    "print(times5(3))\n",
    "\n",
    "# Output: 30\n",
    "print(times5(times3(2)))"
   ]
  },
  {
   "cell_type": "code",
   "execution_count": 1,
   "metadata": {},
   "outputs": [
    {
     "name": "stdout",
     "output_type": "stream",
     "text": [
      "6\n",
      "9\n",
      "5\n",
      "10\n"
     ]
    }
   ],
   "source": [
    "import logging\n",
    "logging.basicConfig(filename='example.log', level=logging.INFO)\n",
    " \n",
    "def logger(func):\n",
    "    def log_func(*args):\n",
    "        logging.info(\n",
    "            'Running \"{}\" with arguments {}'.format(func.__name__,\n",
    "                                                    args))\n",
    "        print(func(*args))\n",
    "         \n",
    "    # Necessary for closure to\n",
    "    # work (returning WITHOUT parenthesis)\n",
    "    return log_func            \n",
    " \n",
    "def add(x, y):\n",
    "    return x+y\n",
    " \n",
    "def sub(x, y):\n",
    "    return x-y\n",
    " \n",
    "add_logger = logger(add)\n",
    "sub_logger = logger(sub)\n",
    " \n",
    "add_logger(3, 3)\n",
    "add_logger(4, 5)\n",
    " \n",
    "sub_logger(10, 5)\n",
    "sub_logger(20, 10)"
   ]
  },
  {
   "attachments": {},
   "cell_type": "markdown",
   "metadata": {},
   "source": [
    "Question: Add two number"
   ]
  },
  {
   "attachments": {},
   "cell_type": "markdown",
   "metadata": {},
   "source": [
    "## Decorators"
   ]
  },
  {
   "attachments": {},
   "cell_type": "markdown",
   "metadata": {},
   "source": [
    "Decorators\n",
    "\n",
    "A Python decorator is a function that takes in a function and returns it by adding some functionality."
   ]
  },
  {
   "cell_type": "code",
   "execution_count": null,
   "metadata": {},
   "outputs": [],
   "source": [
    "def outer(x):\n",
    "    def inner(y):\n",
    "        return x + y\n",
    "    return inner\n",
    "\n",
    "add_five = outer(5)\n",
    "result = add_five(6)\n",
    "print(result)"
   ]
  },
  {
   "attachments": {},
   "cell_type": "markdown",
   "metadata": {},
   "source": [
    "Pass Function as Argument"
   ]
  },
  {
   "cell_type": "code",
   "execution_count": null,
   "metadata": {},
   "outputs": [],
   "source": [
    "def add(x, y):\n",
    "    return x + y\n",
    "\n",
    "def calculate(func, x, y):\n",
    "    return func(x, y)"
   ]
  },
  {
   "cell_type": "code",
   "execution_count": null,
   "metadata": {},
   "outputs": [],
   "source": [
    "result = calculate(add, 4, 6)\n",
    "print(result)"
   ]
  },
  {
   "attachments": {},
   "cell_type": "markdown",
   "metadata": {},
   "source": [
    "Return a Function as a Value"
   ]
  },
  {
   "cell_type": "code",
   "execution_count": null,
   "metadata": {},
   "outputs": [],
   "source": [
    "def greeting(name):\n",
    "    def hello():\n",
    "        return \"Hello, \" + name + \"!\"\n",
    "    return hello\n",
    "\n",
    "greet = greeting(\"Atlantis\")\n",
    "print(greet())"
   ]
  },
  {
   "cell_type": "code",
   "execution_count": null,
   "metadata": {},
   "outputs": [],
   "source": [
    "def make_pretty(func):\n",
    "    # define the inner function \n",
    "    def inner():\n",
    "        # add some additional behavior to decorated function\n",
    "        print(\"I got decorated\")\n",
    "\n",
    "        # call original function\n",
    "        func()\n",
    "    # return the inner function\n",
    "    return inner\n",
    "\n",
    "# define ordinary function\n",
    "def ordinary():\n",
    "    print(\"I am ordinary\")"
   ]
  },
  {
   "cell_type": "code",
   "execution_count": null,
   "metadata": {},
   "outputs": [],
   "source": [
    "decorated_func = make_pretty(ordinary)"
   ]
  },
  {
   "attachments": {},
   "cell_type": "markdown",
   "metadata": {},
   "source": [
    "@ Symbol With Decorator\n",
    "Instead of assigning the function call to a variable, Python provides a much more elegant way to achieve this functionality using the @ symbol. For example,"
   ]
  },
  {
   "cell_type": "code",
   "execution_count": null,
   "metadata": {},
   "outputs": [],
   "source": [
    "def make_pretty(func):\n",
    "\n",
    "    def inner():\n",
    "        print(\"I got decorated\")\n",
    "        func()\n",
    "    return inner\n",
    "\n",
    "@make_pretty\n",
    "def ordinary():\n",
    "    print(\"I am ordinary\")\n",
    "\n",
    "ordinary()  "
   ]
  },
  {
   "cell_type": "code",
   "execution_count": null,
   "metadata": {},
   "outputs": [],
   "source": [
    "def add(x):  \n",
    "    return x+1  \n",
    "def sub(x):  \n",
    "    return x-1  \n",
    "def operator(func, x):  \n",
    "    temp = func(x)  \n",
    "    return temp  \n",
    "print(operator(sub,10))  \n",
    "print(operator(add,20))"
   ]
  },
  {
   "attachments": {},
   "cell_type": "markdown",
   "metadata": {},
   "source": [
    "Generator"
   ]
  },
  {
   "attachments": {},
   "cell_type": "markdown",
   "metadata": {},
   "source": [
    "In Python, a generator is a function that returns an iterator that produces a sequence of values when iterated over.\n",
    "\n",
    "Generators are useful when we want to produce a large sequence of values, but we don't want to store all of them in memory at once.\n",
    "\n",
    "Create Python Generator\n",
    "In Python, similar to defining a normal function, we can define a generator function using the def keyword, but instead of the return statement we use the yield statement.\n",
    "\n",
    "def generator_name(arg):\n",
    "    # statements\n",
    "    yield something\n",
    "Here, the yield keyword is used to produce a value from the generator.\n",
    "\n",
    "When the generator function is called, it does not execute the function body immediately. Instead, it returns a generator object that can be iterated over to produce the values.\n"
   ]
  },
  {
   "cell_type": "code",
   "execution_count": 3,
   "metadata": {},
   "outputs": [],
   "source": [
    "def my_generator(n):\n",
    "\n",
    "    # initialize counter\n",
    "    value = 0\n",
    "\n",
    "    # loop until counter is less than n\n",
    "    while value < n:\n",
    "\n",
    "        # produce the current value of the counter\n",
    "        yield value\n",
    "\n",
    "        # increment the counter\n",
    "        value += 1"
   ]
  },
  {
   "cell_type": "code",
   "execution_count": 6,
   "metadata": {},
   "outputs": [
    {
     "data": {
      "text/plain": [
       "0"
      ]
     },
     "execution_count": 6,
     "metadata": {},
     "output_type": "execute_result"
    }
   ],
   "source": [
    "next(my_generator(3))"
   ]
  },
  {
   "cell_type": "code",
   "execution_count": null,
   "metadata": {},
   "outputs": [],
   "source": [
    "# iterate over the generator object produced by my_generator\n",
    "for value in my_generator(3):\n",
    "\n",
    "    # print each value produced by generator\n",
    "    print(value)"
   ]
  },
  {
   "attachments": {},
   "cell_type": "markdown",
   "metadata": {},
   "source": [
    "Infinite Generator"
   ]
  },
  {
   "cell_type": "code",
   "execution_count": 7,
   "metadata": {},
   "outputs": [],
   "source": [
    "def all_even():\n",
    "    n = 0\n",
    "    while True:\n",
    "        yield n\n",
    "        n += 2"
   ]
  },
  {
   "cell_type": "code",
   "execution_count": 13,
   "metadata": {},
   "outputs": [
    {
     "name": "stdout",
     "output_type": "stream",
     "text": [
      "0\n"
     ]
    }
   ],
   "source": [
    "even = all_even()\n",
    "print(next(even))"
   ]
  },
  {
   "cell_type": "code",
   "execution_count": 25,
   "metadata": {},
   "outputs": [
    {
     "name": "stdout",
     "output_type": "stream",
     "text": [
      "24\n"
     ]
    }
   ],
   "source": [
    "print(next(even))"
   ]
  },
  {
   "cell_type": "code",
   "execution_count": null,
   "metadata": {},
   "outputs": [],
   "source": []
  },
  {
   "cell_type": "code",
   "execution_count": null,
   "metadata": {},
   "outputs": [],
   "source": []
  },
  {
   "cell_type": "code",
   "execution_count": null,
   "metadata": {},
   "outputs": [],
   "source": []
  },
  {
   "attachments": {},
   "cell_type": "markdown",
   "metadata": {},
   "source": [
    "Python Iterators\n",
    "\n",
    "Iterators are methods that iterate collections like lists, tuples, etc. Using an iterator method, we can loop through an object and return its elements.\n",
    "\n",
    "Technically, a Python iterator object must implement two special methods, __iter__() and __next__(), collectively called the iterator protocol.\n",
    "\n",
    "\n",
    "Iterating Through an Iterator\n",
    "In Python, we can use the next() function to return the next item in the sequence."
   ]
  },
  {
   "cell_type": "code",
   "execution_count": null,
   "metadata": {},
   "outputs": [],
   "source": [
    "# define a list\n",
    "my_list = [4, 7, 0]\n",
    "\n",
    "# create an iterator from the list\n",
    "iterator = iter(my_list)\n",
    "\n",
    "# get the first element of the iterator\n",
    "print(next(iterator))  # prints 4\n",
    "\n",
    "# get the second element of the iterator\n",
    "print(next(iterator))  # prints 7\n",
    "\n",
    "# get the third element of the iterator\n",
    "print(next(iterator))  # prints 0"
   ]
  },
  {
   "attachments": {},
   "cell_type": "markdown",
   "metadata": {},
   "source": [
    "Building Custom Iterators"
   ]
  },
  {
   "cell_type": "code",
   "execution_count": null,
   "metadata": {},
   "outputs": [],
   "source": [
    "class PowTwo:\n",
    "    \"\"\"Class to implement an iterator\n",
    "    of powers of two\"\"\"\n",
    "\n",
    "    def __init__(self, max=0):\n",
    "        self.max = max\n",
    "\n",
    "    def __iter__(self):\n",
    "        self.n = 0\n",
    "        return self\n",
    "\n",
    "    def __next__(self):\n",
    "        if self.n <= self.max:\n",
    "            result = 2 ** self.n\n",
    "            self.n += 1\n",
    "            return result\n",
    "        else:\n",
    "            raise StopIteration\n",
    "\n",
    "\n",
    "# create an object\n",
    "numbers = PowTwo(3)"
   ]
  },
  {
   "cell_type": "code",
   "execution_count": null,
   "metadata": {},
   "outputs": [],
   "source": [
    "# create an iterable from the object\n",
    "i = iter(numbers)\n",
    "\n",
    "# Using next to get to the next iterator element\n",
    "print(next(i)) # prints 1\n",
    "print(next(i)) # prints 2\n",
    "print(next(i)) # prints 4\n",
    "print(next(i)) # prints 8\n",
    "print(next(i)) # raises StopIteration exception"
   ]
  }
 ],
 "metadata": {
  "kernelspec": {
   "display_name": "Python 3",
   "language": "python",
   "name": "python3"
  },
  "language_info": {
   "codemirror_mode": {
    "name": "ipython",
    "version": 3
   },
   "file_extension": ".py",
   "mimetype": "text/x-python",
   "name": "python",
   "nbconvert_exporter": "python",
   "pygments_lexer": "ipython3",
   "version": "3.11.1"
  },
  "orig_nbformat": 4
 },
 "nbformat": 4,
 "nbformat_minor": 2
}
